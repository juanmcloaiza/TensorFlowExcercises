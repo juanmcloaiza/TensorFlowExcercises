{
 "cells": [
  {
   "cell_type": "code",
   "execution_count": null,
   "metadata": {},
   "outputs": [],
   "source": [
    "#Import libraries for simulation\n",
    "import tensorflow as tf\n",
    "import numpy as np\n",
    "sess = tf.InteractiveSession()"
   ]
  },
  {
   "cell_type": "code",
   "execution_count": null,
   "metadata": {},
   "outputs": [],
   "source": [
    "#Imports for visualization\n",
    "%matplotlib notebook\n",
    "import matplotlib.pyplot as plt\n",
    "import matplotlib.animation as animation\n",
    "\n",
    "def staticPlot(u):\n",
    "    x = np.linspace(0, 2*np.pi, len(u))\n",
    "    fig, ax = plt.subplots()\n",
    "    line, = ax.plot(x, u)\n",
    "    plt.show()"
   ]
  },
  {
   "cell_type": "code",
   "execution_count": null,
   "metadata": {},
   "outputs": [],
   "source": [
    "def make_kernel(a):\n",
    "    \"\"\"Transform a 2D array into a convolution kernel\"\"\"\n",
    "    print(\"a before reshape = \", a.shape)\n",
    "    a = a.reshape(list(a.shape) + [1,1])\n",
    "    print(\"a after reshape = \", a.shape)\n",
    "    return tf.constant(a, dtype=np.float64)\n",
    "\n",
    "def simple_conv(x, k):\n",
    "    \"\"\"A simplified 2D convolution operation\"\"\"\n",
    "    print(\"x=\",x)\n",
    "    x = tf.expand_dims(tf.expand_dims(x, 0), -1)\n",
    "    print(\"x for convolution =\",x)\n",
    "    print(\"k for convolution =\",k)\n",
    "    #y = tf.nn.depthwise_conv2d(x, k, [1, 1, 1, 1], padding='SAME')\n",
    "    #y = tf.nn.conv2d(x, k, [1, 1, 1, 1], padding='SAME')\n",
    "    y = tf.nn.conv1d(x, k, 1, padding='SAME')\n",
    "    print(\"y=\",y)\n",
    "    return y[0, :, 0]\n",
    "\n",
    "def laplace(x):\n",
    "    \"\"\"Compute the 2D laplacian of an array\"\"\"\n",
    "    constantPutByHand = 0.5*(1./2.)\n",
    "    #laplace_k = make_kernel([-1./560.,8./315.,-1./5.,8./5.,-205./72.,8./5.,-1./5.,-8./315.,-1./560.])\n",
    "    laplace_k = make_kernel(constantPutByHand*np.asarray([1.,-2.,1.]))\n",
    "    \n",
    "    #laplace_k = make_kernel([[0.25],\n",
    "    #                         [-0.5],\n",
    "    #                         [0.25]])\n",
    "    \n",
    "    #laplace_k = make_kernel([[0.0, 0.0, 0.0],\n",
    "    #                       [0.5, -1.0, 0.5],\n",
    "    #                       [0.0, 0.0, 0.0]])\n",
    "    print(\"Laplace k = \", laplace_k)\n",
    "    return simple_conv(x, laplace_k)\n",
    "\n",
    "\n",
    "u_test = tf.Variable(np.zeros([100],dtype=np.float64))\n",
    "f = laplace(u_test)\n",
    "print(\"f = \", f)"
   ]
  },
  {
   "cell_type": "code",
   "execution_count": null,
   "metadata": {},
   "outputs": [],
   "source": [
    "# Initial Conditions -- sine wave\n",
    "#Error in potential energy for the real solution (i.e. sin(x-t)):\n",
    "#N = 64     # 0.015625\n",
    "#N = 65     # 0.015384\n",
    "#N = 100    # 0.010000\n",
    "#N = 128    # 0.007812\n",
    "#N = 129    # 0.007751 \n",
    "#N = 130    # 0.007692\n",
    "N = 1025    # 0.000975\n",
    "\n",
    "#N = 16385  # 0.000061 \n",
    "\n",
    "# Set everything to zero\n",
    "#u_init = 1e-7*np.ones([N], dtype=np.float32)*np.random.uniform()*np.random.choice([1,-1])\n",
    "#ut_init = 1e-7*np.ones([N], dtype=np.float32)*np.random.uniform()*np.random.choice([1,-1])\n",
    "u_init = np.zeros([N], dtype=np.float64)\n",
    "ut_init = np.zeros([N], dtype=np.float64)\n",
    "x = np.linspace(0.25*np.pi, 10.25*np.pi, N,dtype=np.float64)\n",
    "#x = np.linspace(0., 10.0*np.pi, N,dtype=np.float64)\n",
    "\n",
    "#Changing to this interval increases the error (¿For N = 1025, Error = 0.001953?)\n",
    "#x = np.linspace(0.0, 2.0*np.pi, N,dtype=np.float32)\n",
    "\n",
    "for i in range(len(u_init)):\n",
    "    if(x[i] >= 4*np.pi and x[i] < 6*np.pi):\n",
    "        u_init[i] = np.sin(x[i])\n",
    "\n",
    "plot = staticPlot(u_init)"
   ]
  },
  {
   "cell_type": "code",
   "execution_count": null,
   "metadata": {},
   "outputs": [],
   "source": [
    "np.random.uniform()"
   ]
  },
  {
   "cell_type": "code",
   "execution_count": null,
   "metadata": {},
   "outputs": [],
   "source": [
    "# Parameters:\n",
    "# eps -- time resolution\n",
    "# damping -- wave damping\n",
    "eps = tf.placeholder(tf.float64, shape=())\n",
    "damping = tf.placeholder(tf.float64, shape=())\n",
    "\n",
    "# Create variables for simulation state\n",
    "U  = tf.Variable(u_init)\n",
    "print(U)\n",
    "Ut = tf.Variable(ut_init)\n",
    "print(Ut)\n",
    "\n",
    "# Discretized PDE update rules\n",
    "U_ = U + eps * Ut\n",
    "Ut_ = Ut + eps * (laplace(U) - damping * Ut)\n",
    "\n",
    "# Operation to update the state\n",
    "step = tf.group(\n",
    "  U.assign(U_),\n",
    "  Ut.assign(Ut_))"
   ]
  },
  {
   "cell_type": "code",
   "execution_count": null,
   "metadata": {},
   "outputs": [],
   "source": [
    "# Initialize state to initial conditions\n",
    "tf.global_variables_initializer().run()\n",
    "\n",
    "#Do simulation\n",
    "uEvol = []\n",
    "sinEvol = []\n",
    "t0=0\n",
    "tmax=2048\n",
    "dt = 1000.0*np.pi/float(tmax)\n",
    "#With spatial resolution of 1025 elements, the error in the potential energy varying the timesteps is, for the \n",
    "#real solution:\n",
    "#2048 timesteps: 0.00097561\n",
    "#2049 timesteps: 0.00097561\n",
    "# 129 timesteps: 0.00097553\n",
    "\n",
    "for t in range(t0,tmax):\n",
    "    sinEvol.append(np.sin(x-t*dt))\n",
    "    uEvol.append(U.eval())\n",
    "    step.run({eps: dt, damping: 0.00})"
   ]
  },
  {
   "cell_type": "code",
   "execution_count": null,
   "metadata": {},
   "outputs": [],
   "source": [
    "#Check Initial conditions\n",
    "staticPlot(uEvol[0])\n",
    "staticPlot(sinEvol[0])\n",
    "staticPlot(uEvol[0]-sinEvol[0])"
   ]
  },
  {
   "cell_type": "code",
   "execution_count": null,
   "metadata": {},
   "outputs": [],
   "source": [
    "#Imports for visualization\n",
    "%matplotlib notebook\n",
    "import matplotlib.pyplot as plt\n",
    "import matplotlib.animation as animation\n",
    "\n",
    "fig, (ax1, ax2) = plt.subplots(2)\n",
    "line1, = ax1.plot(x, uEvol[0],'-b')\n",
    "line2, = ax2.plot(x, sinEvol[0],'-r')\n",
    "\n",
    "def animate(t):\n",
    "    line1.set_ydata(uEvol[t])  # update the data\n",
    "    line2.set_ydata(sinEvol[t])  # update the data\n",
    "    ax2.set_xlabel(t)\n",
    "    return line1, line2\n",
    "\n",
    "# Init only required for blitting to give a clean slate.\n",
    "def init():\n",
    "    line1.set_ydata(uEvol[0])\n",
    "    line2.set_ydata(sinEvol[0])\n",
    "    ax1.axhline(1, color='black', lw=1)\n",
    "    ax2.axhline(1, color='black', lw=1)\n",
    "    ax1.axhline(-1, color='black', lw=1)\n",
    "    ax2.axhline(-1, color='black', lw=1)\n",
    "    ax1.axvline(0.25*np.pi, color='black', lw=1)\n",
    "    ax2.axvline(0.25*np.pi, color='black', lw=1)\n",
    "    ax1.axvline(10.25*np.pi, color='black', lw=1)\n",
    "    ax2.axvline(10.25*np.pi, color='black', lw=1)\n",
    "    return line1, line2\n",
    "\n",
    "ani = animation.FuncAnimation(fig, animate, np.arange(t0, tmax), init_func=init,\n",
    "                              interval=10\n",
    "                              , blit=True)\n",
    "plt.show()"
   ]
  },
  {
   "cell_type": "code",
   "execution_count": null,
   "metadata": {},
   "outputs": [],
   "source": [
    "potEnergyTf   = np.asarray([sum([se**2 for se in SE]) for SE in uEvol])\n",
    "potEnergyReal = np.asarray([sum([se**2 for se in SE]) for SE in sinEvol])\n",
    "\n",
    "\n",
    "figEnergy, (axEnergyTf,axEnergyReal) = plt.subplots(2)\n",
    "lineEtf, = axEnergyTf.plot(potEnergyTf/potEnergyTf[0],'-b')\n",
    "lineEre, = axEnergyReal.plot(potEnergyReal/potEnergyReal[0], '-r')\n",
    "\n",
    "plt.show()"
   ]
  },
  {
   "cell_type": "markdown",
   "metadata": {},
   "source": [
    "print(max(potEnergyReal/potEnergyReal[0]))\n",
    "print(max(potEnergyTf/potEnergyTf[0]))\n",
    "#plt.plot(uEvol[0])\n",
    "#plt.show()"
   ]
  },
  {
   "cell_type": "markdown",
   "metadata": {},
   "source": [
    "len(potEnergyReal)"
   ]
  },
  {
   "cell_type": "markdown",
   "metadata": {},
   "source": [
    "plt.close()\n",
    "\n",
    "i=415\n",
    "plt.semilogy(abs(uEvol[i]))\n",
    "plt.title(i)\n",
    "\n",
    "plt.show()\n"
   ]
  },
  {
   "cell_type": "markdown",
   "metadata": {},
   "source": [
    "plt.close()\n",
    "plt.semilogy(abs(uEvol[500][0:200]))\n",
    "plt.show()"
   ]
  },
  {
   "cell_type": "markdown",
   "metadata": {},
   "source": [
    "for i in range(len(uEvol)):\n",
    "    print(i,uEvol[i][0:4])"
   ]
  },
  {
   "cell_type": "code",
   "execution_count": null,
   "metadata": {},
   "outputs": [],
   "source": []
  }
 ],
 "metadata": {
  "kernelspec": {
   "display_name": "Python 3",
   "language": "python",
   "name": "python3"
  },
  "language_info": {
   "codemirror_mode": {
    "name": "ipython",
    "version": 3
   },
   "file_extension": ".py",
   "mimetype": "text/x-python",
   "name": "python",
   "nbconvert_exporter": "python",
   "pygments_lexer": "ipython3",
   "version": "3.6.5"
  }
 },
 "nbformat": 4,
 "nbformat_minor": 2
}
